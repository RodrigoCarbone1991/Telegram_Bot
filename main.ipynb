{
 "cells": [
  {
   "cell_type": "markdown",
   "id": "01f60937",
   "metadata": {},
   "source": [
    "**Librerias y configuracion**"
   ]
  },
  {
   "cell_type": "code",
   "execution_count": null,
   "id": "be7e3073",
   "metadata": {},
   "outputs": [],
   "source": [
    "import os\n",
    "import re\n",
    "import joblib\n",
    "import unicodedata\n",
    "from dotenv import load_dotenv\n",
    "from telegram import Bot\n",
    "from telegram.ext import ApplicationBuilder, MessageHandler, ContextTypes, filters\n",
    "from telegram import Update\n",
    "from logger import setup_logger"
   ]
  },
  {
   "cell_type": "markdown",
   "id": "82c42203",
   "metadata": {},
   "source": [
    "**Carga de modelo y vectoriazion**"
   ]
  },
  {
   "cell_type": "code",
   "execution_count": null,
   "id": "4c05d434",
   "metadata": {},
   "outputs": [],
   "source": [
    "modelo = joblib.load(\"modelo/modelo_entrenado.pkl\")\n",
    "vectorizer = joblib.load(\"modelo/vectorizer.pkl\")"
   ]
  },
  {
   "cell_type": "markdown",
   "id": "c6e27ddb",
   "metadata": {},
   "source": [
    "**Configurar el logg de registros de errores y eventos**"
   ]
  },
  {
   "cell_type": "code",
   "execution_count": null,
   "id": "e9be53d7",
   "metadata": {},
   "outputs": [],
   "source": [
    "logger = setup_logger()"
   ]
  },
  {
   "cell_type": "markdown",
   "id": "b1af3932",
   "metadata": {},
   "source": [
    "**Carga de variables de entorno**  "
   ]
  },
  {
   "cell_type": "code",
   "execution_count": null,
   "id": "de60dfbe",
   "metadata": {},
   "outputs": [],
   "source": [
    "load_dotenv()\n",
    "telegram_bot_token = os.getenv(\"telegram_bot_token\")\n",
    "\n",
    "if not telegram_bot_token:\n",
    "    raise ValueError(\"No se encontró el token en el archivo .env\")"
   ]
  },
  {
   "cell_type": "markdown",
   "id": "bc5b6d54",
   "metadata": {},
   "source": [
    "**Funciones para limpiar texto**"
   ]
  },
  {
   "cell_type": "code",
   "execution_count": null,
   "id": "c579a8c0",
   "metadata": {},
   "outputs": [],
   "source": [
    "#Limpia texto del dataset\n",
    "def limpiar_texto(texto):\n",
    "    texto = texto.lower()\n",
    "    texto = ''.join(c for c in unicodedata.normalize('NFD', texto) if unicodedata.category(c) != 'Mn')\n",
    "    texto = re.sub(r'[^\\w\\s]', '', texto)\n",
    "    texto = re.sub(r'\\s+', ' ', texto).strip()\n",
    "    return texto\n",
    "\n",
    "#Limpia las respuestas del usuario\n",
    "def obtener_respuesta(pregunta_usuario):\n",
    "    pregunta_limpia = limpiar_texto(pregunta_usuario)\n",
    "    pregunta_vectorizada = vectorizer.transform([pregunta_limpia])\n",
    "    respuesta = modelo.predict(pregunta_vectorizada)\n",
    "    return respuesta[0]"
   ]
  },
  {
   "cell_type": "markdown",
   "id": "225e9aa7",
   "metadata": {},
   "source": [
    "**Procesar mensajes recibidos (Handler)**"
   ]
  },
  {
   "cell_type": "code",
   "execution_count": null,
   "id": "6d6bce4e",
   "metadata": {},
   "outputs": [],
   "source": [
    "async def responder(update: Update, context: ContextTypes.DEFAULT_TYPE):\n",
    "    try:\n",
    "        pregunta = update.message.text\n",
    "        if not pregunta or not pregunta.strip():\n",
    "            await update.message.reply_text(\"Quizas quiciste decir decir algo o fue solo un suspiro😮‍💨.\")\n",
    "            return\n",
    "        respuesta = obtener_respuesta(pregunta)\n",
    "        await update.message.reply_text(f\" {respuesta}\")\n",
    "    except Exception as e:\n",
    "        logger.error(f\"Error al responder: {e}\")\n",
    "        await update.message.reply_text(\"🖥️Si te digo que se cayo el sistema, me crees? jaja.\")"
   ]
  },
  {
   "cell_type": "markdown",
   "id": "66e20531",
   "metadata": {},
   "source": [
    "**Creacion del bot, agregado del handler e inicializacion  en loop de escucha**"
   ]
  },
  {
   "cell_type": "code",
   "execution_count": null,
   "id": "f1e41c42",
   "metadata": {},
   "outputs": [],
   "source": [
    "async def main():\n",
    "    app = ApplicationBuilder().token(telegram_bot_token).build()\n",
    "\n",
    "    # Manejador para todos los mensajes de texto\n",
    "    app.add_handler(MessageHandler(filters.TEXT & ~filters.COMMAND, responder))\n",
    "\n",
    "    print(\"🤖 Bot en funcionamiento...\")\n",
    "\n",
    "    await app.initialize()\n",
    "    await app.start()\n",
    "    await app.updater.start_polling()\n"
   ]
  },
  {
   "cell_type": "markdown",
   "id": "d6917f10",
   "metadata": {},
   "source": [
    "**Inicializacion y puesta en marcha del bot con comando para apagarlo**"
   ]
  },
  {
   "cell_type": "code",
   "execution_count": null,
   "id": "493907a8",
   "metadata": {},
   "outputs": [],
   "source": [
    "if __name__ == \"__main__\":\n",
    "    import asyncio\n",
    "\n",
    "    async def safe_main():\n",
    "        await main()\n",
    "        # Mantenemos el bot activo\n",
    "        await asyncio.Event().wait()\n",
    "\n",
    "    try:\n",
    "        asyncio.get_event_loop().run_until_complete(safe_main())\n",
    "    except KeyboardInterrupt:\n",
    "        print(\"🔴 Bot detenido manualmente.\")"
   ]
  }
 ],
 "metadata": {
  "language_info": {
   "name": "python"
  }
 },
 "nbformat": 4,
 "nbformat_minor": 5
}
